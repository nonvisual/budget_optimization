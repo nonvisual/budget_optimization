{
 "cells": [
  {
   "cell_type": "code",
   "execution_count": 24,
   "metadata": {},
   "outputs": [],
   "source": [
    "import sys\n",
    "sys.path.append(\"../\")\n",
    "import pandas as pd\n",
    "import numpy as np\n",
    "from data.transaction_data_generator import generate_transaction_data\n",
    "from typing import List, Set, Dict, Tuple, Optional\n",
    "from preparation.data_preparer import prepare_data\n",
    "import plotly.express as px\n",
    "from visualization.data_visualizer import visualize_data\n",
    "from model.model_creator import create_model\n",
    "from model.solution_parser import parse_solution\n",
    "from pulp import *"
   ]
  },
  {
   "cell_type": "code",
   "execution_count": 25,
   "metadata": {},
   "outputs": [],
   "source": [
    "transactions = generate_transaction_data()\n",
    "prepare_data(transactions)\n",
    "year = 2019\n",
    "selected_year = transactions[transactions['year']==year].copy()"
   ]
  },
  {
   "cell_type": "markdown",
   "metadata": {},
   "source": [
    "## Relative importance of transactions\n",
    "For optimization to make sense, we as users, may want to specify relative importants of transactions. In the end we want to deduce a retroactive savings plan, and to do so we need to \"cancel\" some transactions. It is clear that one may save on grocery shopping, but saving on rent payments does not sound like a good idea."
   ]
  },
  {
   "cell_type": "markdown",
   "metadata": {},
   "source": [
    "### Where the importance factors are coming from?\n",
    "That can be user input. For each transaction type we can specify importance factor as integer value. Below are mine:"
   ]
  },
  {
   "cell_type": "code",
   "execution_count": 27,
   "metadata": {},
   "outputs": [],
   "source": [
    "importance_factors = {\"grocery\":1, \"fashion\":2, \"shopping\":3, \"travel\":10, \"rent\": 1000, \"unknown\":10, \"income\":0}"
   ]
  },
  {
   "cell_type": "code",
   "execution_count": 28,
   "metadata": {},
   "outputs": [],
   "source": [
    "selected_year[\"importance\"] = selected_year['type'].map(importance_factors)"
   ]
  },
  {
   "cell_type": "markdown",
   "metadata": {},
   "source": [
    "# Problem\n",
    "You would like to understand which type of expenses you need to cut in future in order to achieve a certain savings per year.\n",
    "Given a savings amount X, you need to return a list of transactions with minimal total importance, which you could have cut during current year, in order to save this amount.\n",
    "\n",
    "Sanity rules:\n",
    "* You know that there is a certain amount you need to spend on groceries (you need to eat)\n",
    "* Every season you need to spend a certain amount on clothing \n",
    "* In general, you cannot avoid paying for household \n",
    "\n",
    "\n",
    "So what we would like to have is retroactive saving plan for our banc account: where I could have avoided additional expenses in order to achieve certain savings for the last year"
   ]
  },
  {
   "cell_type": "markdown",
   "metadata": {},
   "source": [
    "# Model\n",
    "### Decision\n",
    "Take or not to take the corresponding transaction. Let transaction be indexed by $n \\in \\mathcal{N}$. Then the decision variable, corresponding to taking or not taking transaction $n$ is $z_n \\in \\{0,1\\}$\n",
    "\n",
    "### Optimization goal, i.e. objective function\n",
    "We want to minimize the total importance of all the transaction we decide to keep, in order to achieve certain savings goal. If $I_n$ is importance of transaction $n$, then our goal is to\n",
    "\\begin{align*}\n",
    "\\max \\sum_{n \\in N} I_n z_n\n",
    "\\end{align*}\n"
   ]
  },
  {
   "cell_type": "markdown",
   "metadata": {},
   "source": [
    "## Constraints\n",
    "\n",
    "### Grocery\n",
    "Well, we can never actually cut on grocery entirely. This retroactive savings plan would look ridiculous if some of the weeks will have 0 EUR spent on grocery. That's why we introduce a minimum bound for grocery expenses per week\n",
    "\n",
    "\\begin{align*}\n",
    "\\sum_{n \\in \\mathcal{N}^G_{w}} C_n z_n >= B^G, \\quad \\forall w \\in \\mathcal{W}\n",
    "\\end{align*}\n",
    "\n",
    "where $\\mathcal{N}^G_{w}$ is a set of transactions of type grocery, happening in a specific week $w$, $B^G$ is the minimum weekly allowance for grocery, which we find feasible (user input).\n",
    "\n",
    "Now, there is a little trick here. If we keep constraint as it is, it may happen to be infeasible for some weeks. Imagine, one week you were paying all grocery expenses by cash, and thus they do not appear in your transactions. Yet, you ask solver to find solution, which exceeds your minimum allowance for groceries that week. That's simply impossible! That's why we modify our formulation, to account for such cases:\n",
    "\n",
    "\\begin{align*}\n",
    "\\sum_{n \\in \\mathcal{N}^G_{w}} C_n z_n >= \\min(\\sum_{n \\in \\mathcal{N}^G_{w}} C_n, B^G), \\quad \\forall w \\in \\mathcal{W}\n",
    "\\end{align*}\n",
    "\n",
    "and here $\\sum_{n \\in \\mathcal{N}^G_{w}}$ accounts for maximum transaction cost in grocery in week $w$ which you see in data. If this is above allowance limit, the latter will be used in the constraint. If it is smaller, we will use the observed cost from data as a lower bound limit.\n",
    "\n",
    "### Household\n",
    "We simply cannot avoid paying the rent. We would like our model to disallow saving plans which remove rent payments:\n",
    "\\begin{align*}\n",
    "z_n = 1, \\quad \\forall n \\in \\mathcal{N}^H,\n",
    "\\end{align*}\n",
    "where $\\mathcal{N}^H$ is the set of transactions corresponding to rent payments.\n",
    "\n",
    "\n",
    "### Savings\n",
    "What we would like to know in the end is where do we need to cut, in order to have a certain savings number. We can put it is a target, or as a constraint. I've chosen the latter:\n",
    "\\begin{align*}\n",
    "\\sum_{n \\in N} C_n (1-z_n) >= S,\n",
    "\\end{align*}\n",
    "\n",
    "and here $S$ is our overall savings target. If target is given as a percentage of the total expenses $P$, then \n",
    "$S = P * \\sum_{n \\in N} C_n$\n",
    "\n",
    "\n",
    "### Solution example\n",
    "\n",
    "On the picture below, we see a small dataset, on which the problem is already solved. We can see that 2 transactions were removed, amounting to the total saving of 100 EUR. The objective value (total importance of kept transaction) equals 8.\n",
    "\n",
    "<img src=\"../images/budget_optimization_cropped.png\">\n"
   ]
  },
  {
   "cell_type": "markdown",
   "metadata": {},
   "source": [
    "## User Input\n",
    "We start with user input: we need to known target savings and minimum amount to spend on groceries per week,"
   ]
  },
  {
   "cell_type": "code",
   "execution_count": 29,
   "metadata": {},
   "outputs": [],
   "source": [
    "savings = 0.3\n",
    "grocery_per_week = 50.0"
   ]
  },
  {
   "cell_type": "markdown",
   "metadata": {},
   "source": [
    "## Model creation with PuLP\n",
    "PuLP is an LP modeler written in Python. It comes with open source CBC solver, which makes it an easy choice to start with.\n",
    "We create a basic model object, already specifying optimization sense (maximization)."
   ]
  },
  {
   "cell_type": "code",
   "execution_count": 30,
   "metadata": {},
   "outputs": [],
   "source": [
    "model = pulp.LpProblem(\"Profit_maximizing_problem\", constants.LpMaximize)"
   ]
  },
  {
   "cell_type": "markdown",
   "metadata": {},
   "source": [
    "### Decision variables\n",
    "The model has two essential parts: variables and constraints (which describe relation between variables). Typically, the usual first step with implemantation of optimization model is to define variables. In our case this is a set of binary variables (having values 0 or 1), which describe for each transaction whether it should be kept or removed from the retroactive savings plan, $z_n \\in \\{0,1\\}$"
   ]
  },
  {
   "cell_type": "code",
   "execution_count": 31,
   "metadata": {},
   "outputs": [],
   "source": [
    "decision_vars = pulp.LpVariable.dicts(\n",
    "    \"Transaction\", selected_year.index, 0, 1, LpInteger\n",
    ")"
   ]
  },
  {
   "cell_type": "markdown",
   "metadata": {},
   "source": [
    "## Objective\n",
    "We can already define the objective function, i.e. the function which we ask our solver to maximize. In our problem, this is the\n",
    "total importance of transactions we decided to keep in the plan. So we simply multiply each decision variable $z_n$ by importance factor of the corresponding transaction, then sum them up."
   ]
  },
  {
   "cell_type": "code",
   "execution_count": 32,
   "metadata": {},
   "outputs": [],
   "source": [
    "objective = pulp.lpSum(\n",
    "    [decision_vars[t] * selected_year.loc[t, \"importance\"] for t in selected_year.index]\n",
    ")\n",
    "model += objective"
   ]
  },
  {
   "cell_type": "markdown",
   "metadata": {},
   "source": [
    "### Constraints\n",
    "Let's start with the easiest contstraint to formulate. We would like to always keep rent payments in our plan. \n",
    "This means that we want all decision variables, corresponding to rent payment transactions to be equal to 1 (i.e. we keep them)"
   ]
  },
  {
   "cell_type": "code",
   "execution_count": 33,
   "metadata": {},
   "outputs": [],
   "source": [
    "for t in selected_year.index:\n",
    "    if selected_year.loc[t, \"type\"] == \"rent\":\n",
    "        model += decision_vars[t] == 1"
   ]
  },
  {
   "cell_type": "markdown",
   "metadata": {},
   "source": [
    "Now we have a savings constraint to add. What we want is to make sure that certain savings are achieved. We opted for relative\n",
    "savings input. Note, we need to take absolute value of \"Debit\", because the original data contains negative values there. We could have dealt with it in data preparation step, but this will work as well"
   ]
  },
  {
   "cell_type": "code",
   "execution_count": 34,
   "metadata": {},
   "outputs": [],
   "source": [
    "total_expenditure = abs(selected_year.sum()[\"Debit\"])\n",
    "savings_constraint = (\n",
    "    pulp.lpSum([decision_vars[t] * abs(selected_year.loc[t, \"Debit\"]) for t in selected_year.index])\n",
    "    <= (1 - savings) * total_expenditure\n",
    ")\n",
    "model += savings_constraint"
   ]
  },
  {
   "cell_type": "markdown",
   "metadata": {},
   "source": [
    "Now comes the tricky one: grocery expenses constraint. We would like to make sure that our savings plan does not deliver ridiculous outcomes and cuts food expenses to 0. Thus we would like to have a lower bound on grocery expenses. In addition, we would like to make sure that this lower bound is achievable, because otherwise model might become infeasible. E.g., if user specify lower bound of 100 EUR per week, but a certain week contains transactions amounting only to 50 EUR, lower bound for such week should be minimum between bound and transactions sum, which is 50 EUR in the described case.\n",
    "\n",
    "We start with computing current grocery expenses per week:"
   ]
  },
  {
   "cell_type": "code",
   "execution_count": 35,
   "metadata": {},
   "outputs": [],
   "source": [
    "agg_per_week = selected_year[selected_year[\"type\"] == \"grocery\"].groupby(\"week\").sum()"
   ]
  },
  {
   "cell_type": "markdown",
   "metadata": {},
   "source": [
    "Next, we add weekly constraints:"
   ]
  },
  {
   "cell_type": "code",
   "execution_count": 36,
   "metadata": {},
   "outputs": [],
   "source": [
    "for w in range(52):\n",
    "        if w in agg_per_week.index:\n",
    "            week_grocery_spending = abs(agg_per_week.loc[w, \"Debit\"])\n",
    "            model += pulp.lpSum(\n",
    "                [\n",
    "                    decision_vars[t] * abs(selected_year.loc[t, \"Debit\"])\n",
    "                    if (selected_year.loc[t, \"week\"] == w) and (selected_year.loc[t, \"type\"] == \"grocery\")\n",
    "                    else 0.0\n",
    "                    for t in selected_year.index\n",
    "                ]\n",
    "            ) >= min(week_grocery_spending, grocery_per_week)"
   ]
  },
  {
   "cell_type": "markdown",
   "metadata": {},
   "source": [
    "### Solving the model\n",
    "Now we are good to solve the model. An important thing is to check model status afterwards: if the solution is not optimal, most likely we would not like to use it "
   ]
  },
  {
   "cell_type": "code",
   "execution_count": 37,
   "metadata": {},
   "outputs": [
    {
     "name": "stdout",
     "output_type": "stream",
     "text": [
      "Model soved optimally\n"
     ]
    }
   ],
   "source": [
    "status = model.solve()\n",
    "\n",
    "if LpStatus[status] == 'Optimal':\n",
    "    print(\"Model soved optimally\")\n",
    "else:\n",
    "    print(f\"Model solving was unsuccessful with status {LpStatus[status]}\")"
   ]
  },
  {
   "cell_type": "markdown",
   "metadata": {},
   "source": [
    "Parsing model output: simply for each transaction assign value of the decision variable. In addition, we check value of the objective"
   ]
  },
  {
   "cell_type": "code",
   "execution_count": 38,
   "metadata": {},
   "outputs": [],
   "source": [
    "solution = pd.Series(\n",
    "    [\n",
    "        decision_vars[t].varValue if decision_vars[t].varValue is not None else 1\n",
    "        for t in selected_year.index\n",
    "    ],\n",
    "    index=selected_year.index,\n",
    "    name=\"solution\",\n",
    "    dtype=np.int64,\n",
    ")\n",
    "objective = pulp.value(model.objective)\n"
   ]
  },
  {
   "cell_type": "code",
   "execution_count": 39,
   "metadata": {},
   "outputs": [],
   "source": [
    "solved_data = selected_year.join(solution)"
   ]
  },
  {
   "cell_type": "markdown",
   "metadata": {},
   "source": [
    "And finally merging it with our inputs dataframe. Now for each transaction we have solution value, which tells \n",
    "us wether this transaction should be kept (1) or removed (0) in our retroactive savings plan."
   ]
  },
  {
   "cell_type": "code",
   "execution_count": 40,
   "metadata": {},
   "outputs": [
    {
     "data": {
      "text/html": [
       "<div>\n",
       "<style scoped>\n",
       "    .dataframe tbody tr th:only-of-type {\n",
       "        vertical-align: middle;\n",
       "    }\n",
       "\n",
       "    .dataframe tbody tr th {\n",
       "        vertical-align: top;\n",
       "    }\n",
       "\n",
       "    .dataframe thead th {\n",
       "        text-align: right;\n",
       "    }\n",
       "</style>\n",
       "<table border=\"1\" class=\"dataframe\">\n",
       "  <thead>\n",
       "    <tr style=\"text-align: right;\">\n",
       "      <th></th>\n",
       "      <th>Beneficiary / Originator</th>\n",
       "      <th>Payment Details</th>\n",
       "      <th>Debit</th>\n",
       "      <th>Credit</th>\n",
       "      <th>Booking date</th>\n",
       "      <th>Currency</th>\n",
       "      <th>day</th>\n",
       "      <th>month</th>\n",
       "      <th>year</th>\n",
       "      <th>weekday</th>\n",
       "      <th>week</th>\n",
       "      <th>type</th>\n",
       "      <th>entity</th>\n",
       "      <th>importance</th>\n",
       "      <th>solution</th>\n",
       "    </tr>\n",
       "  </thead>\n",
       "  <tbody>\n",
       "    <tr>\n",
       "      <th>0</th>\n",
       "      <td>Edeka 1452 BERLIN//BERLIN/DE 02-11-2020T1</td>\n",
       "      <td>Edeka 1452 BERLIN//BERLIN/DE 02-11-2020T1</td>\n",
       "      <td>-55.46</td>\n",
       "      <td>0.0</td>\n",
       "      <td>2019-09-12</td>\n",
       "      <td>EUR</td>\n",
       "      <td>12</td>\n",
       "      <td>9</td>\n",
       "      <td>2019</td>\n",
       "      <td>3</td>\n",
       "      <td>37</td>\n",
       "      <td>grocery</td>\n",
       "      <td>edeka</td>\n",
       "      <td>1</td>\n",
       "      <td>0</td>\n",
       "    </tr>\n",
       "    <tr>\n",
       "      <th>1</th>\n",
       "      <td>Rewe SAGT DANKE</td>\n",
       "      <td>Rewe SAGT DANKE</td>\n",
       "      <td>-0.14</td>\n",
       "      <td>0.0</td>\n",
       "      <td>2019-09-28</td>\n",
       "      <td>EUR</td>\n",
       "      <td>28</td>\n",
       "      <td>9</td>\n",
       "      <td>2019</td>\n",
       "      <td>5</td>\n",
       "      <td>39</td>\n",
       "      <td>grocery</td>\n",
       "      <td>rewe</td>\n",
       "      <td>1</td>\n",
       "      <td>1</td>\n",
       "    </tr>\n",
       "    <tr>\n",
       "      <th>2</th>\n",
       "      <td>Edeka 1452 BERLIN//BERLIN/DE 02-11-2020T1</td>\n",
       "      <td>Edeka 1452 BERLIN//BERLIN/DE 02-11-2020T1</td>\n",
       "      <td>-0.43</td>\n",
       "      <td>0.0</td>\n",
       "      <td>2019-12-09</td>\n",
       "      <td>EUR</td>\n",
       "      <td>9</td>\n",
       "      <td>12</td>\n",
       "      <td>2019</td>\n",
       "      <td>0</td>\n",
       "      <td>50</td>\n",
       "      <td>grocery</td>\n",
       "      <td>edeka</td>\n",
       "      <td>1</td>\n",
       "      <td>1</td>\n",
       "    </tr>\n",
       "    <tr>\n",
       "      <th>3</th>\n",
       "      <td>Lidl 124 DE</td>\n",
       "      <td>Lidl 124 DE</td>\n",
       "      <td>-5.30</td>\n",
       "      <td>0.0</td>\n",
       "      <td>2019-12-22</td>\n",
       "      <td>EUR</td>\n",
       "      <td>22</td>\n",
       "      <td>12</td>\n",
       "      <td>2019</td>\n",
       "      <td>6</td>\n",
       "      <td>51</td>\n",
       "      <td>grocery</td>\n",
       "      <td>lidl</td>\n",
       "      <td>1</td>\n",
       "      <td>1</td>\n",
       "    </tr>\n",
       "    <tr>\n",
       "      <th>4</th>\n",
       "      <td>ALDI SAGT DANKE 128 041//Berlin/DE</td>\n",
       "      <td>ALDI SAGT DANKE 128 041//Berlin/DE</td>\n",
       "      <td>-16.38</td>\n",
       "      <td>0.0</td>\n",
       "      <td>2019-05-16</td>\n",
       "      <td>EUR</td>\n",
       "      <td>16</td>\n",
       "      <td>5</td>\n",
       "      <td>2019</td>\n",
       "      <td>3</td>\n",
       "      <td>20</td>\n",
       "      <td>grocery</td>\n",
       "      <td>aldi</td>\n",
       "      <td>1</td>\n",
       "      <td>1</td>\n",
       "    </tr>\n",
       "    <tr>\n",
       "      <th>5</th>\n",
       "      <td>ROSSMANN 124</td>\n",
       "      <td>ROSSMANN 124</td>\n",
       "      <td>-51.46</td>\n",
       "      <td>0.0</td>\n",
       "      <td>2019-12-21</td>\n",
       "      <td>EUR</td>\n",
       "      <td>21</td>\n",
       "      <td>12</td>\n",
       "      <td>2019</td>\n",
       "      <td>5</td>\n",
       "      <td>51</td>\n",
       "      <td>grocery</td>\n",
       "      <td>rossmann</td>\n",
       "      <td>1</td>\n",
       "      <td>1</td>\n",
       "    </tr>\n",
       "    <tr>\n",
       "      <th>6</th>\n",
       "      <td>Edeka 1452 BERLIN//BERLIN/DE 02-11-2020T1</td>\n",
       "      <td>Edeka 1452 BERLIN//BERLIN/DE 02-11-2020T1</td>\n",
       "      <td>-39.67</td>\n",
       "      <td>0.0</td>\n",
       "      <td>2019-11-29</td>\n",
       "      <td>EUR</td>\n",
       "      <td>29</td>\n",
       "      <td>11</td>\n",
       "      <td>2019</td>\n",
       "      <td>4</td>\n",
       "      <td>48</td>\n",
       "      <td>grocery</td>\n",
       "      <td>edeka</td>\n",
       "      <td>1</td>\n",
       "      <td>1</td>\n",
       "    </tr>\n",
       "    <tr>\n",
       "      <th>7</th>\n",
       "      <td>ROSSMANN 124</td>\n",
       "      <td>ROSSMANN 124</td>\n",
       "      <td>-38.21</td>\n",
       "      <td>0.0</td>\n",
       "      <td>2019-02-09</td>\n",
       "      <td>EUR</td>\n",
       "      <td>9</td>\n",
       "      <td>2</td>\n",
       "      <td>2019</td>\n",
       "      <td>5</td>\n",
       "      <td>6</td>\n",
       "      <td>grocery</td>\n",
       "      <td>rossmann</td>\n",
       "      <td>1</td>\n",
       "      <td>0</td>\n",
       "    </tr>\n",
       "    <tr>\n",
       "      <th>8</th>\n",
       "      <td>Rewe SAGT DANKE</td>\n",
       "      <td>Rewe SAGT DANKE</td>\n",
       "      <td>-27.37</td>\n",
       "      <td>0.0</td>\n",
       "      <td>2019-03-15</td>\n",
       "      <td>EUR</td>\n",
       "      <td>15</td>\n",
       "      <td>3</td>\n",
       "      <td>2019</td>\n",
       "      <td>4</td>\n",
       "      <td>11</td>\n",
       "      <td>grocery</td>\n",
       "      <td>rewe</td>\n",
       "      <td>1</td>\n",
       "      <td>1</td>\n",
       "    </tr>\n",
       "    <tr>\n",
       "      <th>9</th>\n",
       "      <td>Zalando Payments GmbH;SUPP Lieferantenzahlg</td>\n",
       "      <td>Zalando Payments GmbH;SUPP Lieferantenzahlg</td>\n",
       "      <td>-83.21</td>\n",
       "      <td>0.0</td>\n",
       "      <td>2019-06-30</td>\n",
       "      <td>EUR</td>\n",
       "      <td>30</td>\n",
       "      <td>6</td>\n",
       "      <td>2019</td>\n",
       "      <td>6</td>\n",
       "      <td>26</td>\n",
       "      <td>fashion</td>\n",
       "      <td>zalando</td>\n",
       "      <td>2</td>\n",
       "      <td>0</td>\n",
       "    </tr>\n",
       "  </tbody>\n",
       "</table>\n",
       "</div>"
      ],
      "text/plain": [
       "                      Beneficiary / Originator  \\\n",
       "0    Edeka 1452 BERLIN//BERLIN/DE 02-11-2020T1   \n",
       "1                              Rewe SAGT DANKE   \n",
       "2    Edeka 1452 BERLIN//BERLIN/DE 02-11-2020T1   \n",
       "3                                  Lidl 124 DE   \n",
       "4           ALDI SAGT DANKE 128 041//Berlin/DE   \n",
       "5                                 ROSSMANN 124   \n",
       "6    Edeka 1452 BERLIN//BERLIN/DE 02-11-2020T1   \n",
       "7                                 ROSSMANN 124   \n",
       "8                              Rewe SAGT DANKE   \n",
       "9  Zalando Payments GmbH;SUPP Lieferantenzahlg   \n",
       "\n",
       "                               Payment Details  Debit  Credit Booking date  \\\n",
       "0    Edeka 1452 BERLIN//BERLIN/DE 02-11-2020T1 -55.46     0.0   2019-09-12   \n",
       "1                              Rewe SAGT DANKE  -0.14     0.0   2019-09-28   \n",
       "2    Edeka 1452 BERLIN//BERLIN/DE 02-11-2020T1  -0.43     0.0   2019-12-09   \n",
       "3                                  Lidl 124 DE  -5.30     0.0   2019-12-22   \n",
       "4           ALDI SAGT DANKE 128 041//Berlin/DE -16.38     0.0   2019-05-16   \n",
       "5                                 ROSSMANN 124 -51.46     0.0   2019-12-21   \n",
       "6    Edeka 1452 BERLIN//BERLIN/DE 02-11-2020T1 -39.67     0.0   2019-11-29   \n",
       "7                                 ROSSMANN 124 -38.21     0.0   2019-02-09   \n",
       "8                              Rewe SAGT DANKE -27.37     0.0   2019-03-15   \n",
       "9  Zalando Payments GmbH;SUPP Lieferantenzahlg -83.21     0.0   2019-06-30   \n",
       "\n",
       "  Currency  day  month  year  weekday  week     type    entity  importance  \\\n",
       "0      EUR   12      9  2019        3    37  grocery     edeka           1   \n",
       "1      EUR   28      9  2019        5    39  grocery      rewe           1   \n",
       "2      EUR    9     12  2019        0    50  grocery     edeka           1   \n",
       "3      EUR   22     12  2019        6    51  grocery      lidl           1   \n",
       "4      EUR   16      5  2019        3    20  grocery      aldi           1   \n",
       "5      EUR   21     12  2019        5    51  grocery  rossmann           1   \n",
       "6      EUR   29     11  2019        4    48  grocery     edeka           1   \n",
       "7      EUR    9      2  2019        5     6  grocery  rossmann           1   \n",
       "8      EUR   15      3  2019        4    11  grocery      rewe           1   \n",
       "9      EUR   30      6  2019        6    26  fashion   zalando           2   \n",
       "\n",
       "   solution  \n",
       "0         0  \n",
       "1         1  \n",
       "2         1  \n",
       "3         1  \n",
       "4         1  \n",
       "5         1  \n",
       "6         1  \n",
       "7         0  \n",
       "8         1  \n",
       "9         0  "
      ]
     },
     "execution_count": 40,
     "metadata": {},
     "output_type": "execute_result"
    }
   ],
   "source": [
    "solved_data.head(10)"
   ]
  },
  {
   "cell_type": "markdown",
   "metadata": {},
   "source": [
    "### Solution check\n",
    "Let's do a couple of sanity checks for our solution, just to be sure that it is valid"
   ]
  },
  {
   "cell_type": "code",
   "execution_count": 41,
   "metadata": {},
   "outputs": [
    {
     "name": "stdout",
     "output_type": "stream",
     "text": [
      "Total importance of remaining transactions: 12370.0\n"
     ]
    }
   ],
   "source": [
    "print(f\"Total importance of remaining transactions: {objective}\")"
   ]
  },
  {
   "cell_type": "code",
   "execution_count": 42,
   "metadata": {},
   "outputs": [
    {
     "name": "stdout",
     "output_type": "stream",
     "text": [
      "Total expenses of proposed retroactive plan: -22315.390000000003\n"
     ]
    }
   ],
   "source": [
    "remained_transactions_sum = sum(solved_data['solution']*solved_data['Debit'])\n",
    "print(f\"Total expenses of proposed retroactive plan: {remained_transactions_sum}\")"
   ]
  },
  {
   "cell_type": "markdown",
   "metadata": {},
   "source": [
    "We will do a proper solution visualization later"
   ]
  }
 ],
 "metadata": {
  "kernelspec": {
   "display_name": "Python 3",
   "language": "python",
   "name": "python3"
  },
  "language_info": {
   "codemirror_mode": {
    "name": "ipython",
    "version": 3
   },
   "file_extension": ".py",
   "mimetype": "text/x-python",
   "name": "python",
   "nbconvert_exporter": "python",
   "pygments_lexer": "ipython3",
   "version": "3.6.9"
  }
 },
 "nbformat": 4,
 "nbformat_minor": 4
}
