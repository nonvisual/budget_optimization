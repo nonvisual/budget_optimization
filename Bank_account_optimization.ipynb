{
 "cells": [
  {
   "cell_type": "code",
   "execution_count": 2,
   "metadata": {},
   "outputs": [],
   "source": [
    "from plotnine import *\n",
    "import pandas as pd\n",
    "import numpy as np\n",
    "from pulp import *\n",
    "import ipywidgets as widgets\n",
    "from data.mock_data_generator import generate_mock_data\n",
    "import matplotlib.pyplot as plt\n",
    "from model.model_creator import create_model"
   ]
  },
  {
   "cell_type": "markdown",
   "metadata": {},
   "source": [
    "# Data\n",
    "\n",
    "Data contains transaction log of the past 1 year, and records are classified by the type of expenditure:\n",
    "1. grocery\n",
    "2. fashion\n",
    "3. household\n",
    "4. online shopping\n",
    "5. travels\n",
    "\n",
    "Let's assume that there is associated importance with each transaction record. This can be of direct dependency of type field, manually labeled or learned (separate task)\n",
    "\n",
    "| info     |  type  | amount | importance | week |\n",
    "|----------|--------|--------|------------|------|\n",
    "| Lidl     |   1    |  60.0  |     1      |  3   |\n",
    "| Zalando  |   2    |  45.0  |     2      |  28  |\n",
    "| Rent Aug |   3    | 1450.0 |     10     |  17  | \n",
    "\n"
   ]
  },
  {
   "cell_type": "code",
   "execution_count": 5,
   "metadata": {},
   "outputs": [],
   "source": [
    "data = generate_mock_data(350)"
   ]
  },
  {
   "cell_type": "code",
   "execution_count": 6,
   "metadata": {},
   "outputs": [],
   "source": [
    "def visualize_data(data):\n",
    "    types =['grocery','fashion','household','online shopping','travels']\n",
    "    summed = data.groupby(['type']).sum().reset_index()\n",
    "    plt.pie(summed['amount'],labels=np.take(types,summed['type']-1),autopct='%1.1f%%')\n",
    "    plt.title('My Expenses')\n",
    "    plt.axis('equal')\n",
    "    plt.show()\n",
    "    print(f\"Total expenses for the year are {data.sum()['amount']} Euros\")\n",
    "    "
   ]
  },
  {
   "cell_type": "code",
   "execution_count": 7,
   "metadata": {
    "scrolled": true
   },
   "outputs": [
    {
     "data": {
      "image/png": "[encoded data removed]",
      "text/plain": [
       "<Figure size 432x288 with 1 Axes>"
      ]
     },
     "metadata": {},
     "output_type": "display_data"
    },
    {
     "name": "stdout",
     "output_type": "stream",
     "text": [
      "Total expenses for the year are 29281.35 Euros\n"
     ]
    }
   ],
   "source": [
    "visualize_data(data)"
   ]
  },
  {
   "cell_type": "markdown",
   "metadata": {},
   "source": [
    "# Problem\n",
    "You would like to understand which type of expenses you need to cut in future in order to achieve a certain savings per year.\n",
    "Given a savings amount X, you need to return a list of transactions with minimal total importance, which you could have cut during current year, in order to save this amount.\n",
    "\n",
    "Sanity rules:\n",
    "* You know that there is a certain amount you need to spend on groceries (you need to eat)\n",
    "* Every season you need to spend a certain amount on clothing \n",
    "* In general, you cannot avoid paying for household \n"
   ]
  },
  {
   "cell_type": "markdown",
   "metadata": {},
   "source": [
    "# Model\n",
    "### Decision\n",
    "Take or not to take the corresponding transaction. Let transaction be indexed by $n \\in \\mathcal{N}$. Then the decision variable, corresponding to taking or not taking transaction $n$ is $z_n \\in \\{0,1\\}$\n",
    "\n",
    "### Optimization goal, i.e. objective function\n",
    "We want to minimize the total importance of all the transaction we decide to remove, in order to achieve certain savings goal. If $I_n$ is importance of transaction $n$, then our goal is to\n",
    "\\begin{align*}\n",
    "\\min \\sum_{n \\in N} I_n z_n\n",
    "\\end{align*}\n"
   ]
  },
  {
   "cell_type": "code",
   "execution_count": 8,
   "metadata": {},
   "outputs": [],
   "source": [
    "savings = 0.1\n",
    "grocery_per_week = 50.0"
   ]
  },
  {
   "cell_type": "code",
   "execution_count": 9,
   "metadata": {},
   "outputs": [
    {
     "name": "stderr",
     "output_type": "stream",
     "text": [
      "/home/vfux/Repositories/budget_optimization/.venv/lib/python3.6/site-packages/pulp/pulp.py:1195: UserWarning: Spaces are not permitted in the name. Converted to '_'\n"
     ]
    }
   ],
   "source": [
    "model, decision_vars = create_model(data, savings, grocery_per_week)"
   ]
  },
  {
   "cell_type": "code",
   "execution_count": 81,
   "metadata": {},
   "outputs": [
    {
     "name": "stderr",
     "output_type": "stream",
     "text": [
      "/home/vfux/Repositories/budget_optimization/.venv/lib/python3.6/site-packages/pulp/pulp.py:1195: UserWarning: Spaces are not permitted in the name. Converted to '_'\n"
     ]
    }
   ],
   "source": [
    "model = pulp.LpProblem(\"Profit maximising problem\", -1)\n",
    "decision_vars = LpVariable.dicts(\"Transaction\",range(len(data)),0,1,LpInteger)\n"
   ]
  },
  {
   "cell_type": "code",
   "execution_count": 11,
   "metadata": {},
   "outputs": [
    {
     "name": "stdout",
     "output_type": "stream",
     "text": [
      "Model has status Optimal\n"
     ]
    }
   ],
   "source": [
    "model.solve()\n",
    "print(f\"Model has status {pulp.const.LpStatus[model.status]}\")"
   ]
  },
  {
   "cell_type": "code",
   "execution_count": 12,
   "metadata": {},
   "outputs": [
    {
     "name": "stdout",
     "output_type": "stream",
     "text": [
      "1678.0\n"
     ]
    }
   ],
   "source": [
    "print(pulp.value(model.objective))\n"
   ]
  },
  {
   "cell_type": "code",
   "execution_count": 13,
   "metadata": {},
   "outputs": [
    {
     "data": {
      "text/plain": [
       "26309.479999999996"
      ]
     },
     "execution_count": 13,
     "metadata": {},
     "output_type": "execute_result"
    }
   ],
   "source": [
    "sum([decision_vars[t].varValue* data.loc[t,'amount'] for t in range(len(data))])"
   ]
  },
  {
   "cell_type": "code",
   "execution_count": 14,
   "metadata": {},
   "outputs": [],
   "source": [
    "mask = np.array([True if decision_vars[t].varValue > 0.5 else False for t in range(len(data))])"
   ]
  },
  {
   "cell_type": "code",
   "execution_count": 15,
   "metadata": {},
   "outputs": [
    {
     "data": {
      "image/png": "[encoded data removed]",
      "text/plain": [
       "<Figure size 432x288 with 1 Axes>"
      ]
     },
     "metadata": {},
     "output_type": "display_data"
    },
    {
     "name": "stdout",
     "output_type": "stream",
     "text": [
      "Total expenses for the year are 26309.48 Euros\n"
     ]
    }
   ],
   "source": [
    "visualize_data(data[mask])"
   ]
  },
  {
   "cell_type": "code",
   "execution_count": 92,
   "metadata": {},
   "outputs": [
    {
     "data": {
      "image/png": "[encoded data removed]",
      "text/plain": [
       "<Figure size 432x288 with 1 Axes>"
      ]
     },
     "metadata": {},
     "output_type": "display_data"
    },
    {
     "name": "stdout",
     "output_type": "stream",
     "text": [
      "Total expenses for the year are 2971.87 Euros\n"
     ]
    }
   ],
   "source": [
    "visualize_data(data[~mask])"
   ]
  },
  {
   "cell_type": "code",
   "execution_count": 93,
   "metadata": {},
   "outputs": [
    {
     "data": {
      "text/html": [
       "<div>\n",
       "<style scoped>\n",
       "    .dataframe tbody tr th:only-of-type {\n",
       "        vertical-align: middle;\n",
       "    }\n",
       "\n",
       "    .dataframe tbody tr th {\n",
       "        vertical-align: top;\n",
       "    }\n",
       "\n",
       "    .dataframe thead th {\n",
       "        text-align: right;\n",
       "    }\n",
       "</style>\n",
       "<table border=\"1\" class=\"dataframe\">\n",
       "  <thead>\n",
       "    <tr style=\"text-align: right;\">\n",
       "      <th></th>\n",
       "      <th>info</th>\n",
       "      <th>type</th>\n",
       "      <th>amount</th>\n",
       "      <th>week</th>\n",
       "      <th>importance</th>\n",
       "    </tr>\n",
       "  </thead>\n",
       "  <tbody>\n",
       "    <tr>\n",
       "      <th>2</th>\n",
       "      <td>Booking.com</td>\n",
       "      <td>5</td>\n",
       "      <td>888.09</td>\n",
       "      <td>23</td>\n",
       "      <td>8</td>\n",
       "    </tr>\n",
       "    <tr>\n",
       "      <th>4</th>\n",
       "      <td>Edeka</td>\n",
       "      <td>1</td>\n",
       "      <td>32.24</td>\n",
       "      <td>6</td>\n",
       "      <td>0</td>\n",
       "    </tr>\n",
       "    <tr>\n",
       "      <th>11</th>\n",
       "      <td>Lidl</td>\n",
       "      <td>1</td>\n",
       "      <td>4.85</td>\n",
       "      <td>8</td>\n",
       "      <td>0</td>\n",
       "    </tr>\n",
       "    <tr>\n",
       "      <th>14</th>\n",
       "      <td>Rewe</td>\n",
       "      <td>1</td>\n",
       "      <td>3.30</td>\n",
       "      <td>33</td>\n",
       "      <td>0</td>\n",
       "    </tr>\n",
       "    <tr>\n",
       "      <th>34</th>\n",
       "      <td>Rewe</td>\n",
       "      <td>1</td>\n",
       "      <td>23.91</td>\n",
       "      <td>34</td>\n",
       "      <td>0</td>\n",
       "    </tr>\n",
       "    <tr>\n",
       "      <th>37</th>\n",
       "      <td>Amazon</td>\n",
       "      <td>4</td>\n",
       "      <td>48.78</td>\n",
       "      <td>17</td>\n",
       "      <td>0</td>\n",
       "    </tr>\n",
       "    <tr>\n",
       "      <th>40</th>\n",
       "      <td>Rewe</td>\n",
       "      <td>1</td>\n",
       "      <td>28.68</td>\n",
       "      <td>39</td>\n",
       "      <td>0</td>\n",
       "    </tr>\n",
       "    <tr>\n",
       "      <th>41</th>\n",
       "      <td>Lidl</td>\n",
       "      <td>1</td>\n",
       "      <td>38.60</td>\n",
       "      <td>25</td>\n",
       "      <td>0</td>\n",
       "    </tr>\n",
       "    <tr>\n",
       "      <th>42</th>\n",
       "      <td>Lidl</td>\n",
       "      <td>1</td>\n",
       "      <td>0.77</td>\n",
       "      <td>1</td>\n",
       "      <td>0</td>\n",
       "    </tr>\n",
       "    <tr>\n",
       "      <th>51</th>\n",
       "      <td>Amazon</td>\n",
       "      <td>4</td>\n",
       "      <td>49.83</td>\n",
       "      <td>36</td>\n",
       "      <td>0</td>\n",
       "    </tr>\n",
       "    <tr>\n",
       "      <th>60</th>\n",
       "      <td>Rewe</td>\n",
       "      <td>1</td>\n",
       "      <td>27.91</td>\n",
       "      <td>12</td>\n",
       "      <td>0</td>\n",
       "    </tr>\n",
       "    <tr>\n",
       "      <th>62</th>\n",
       "      <td>Edeka</td>\n",
       "      <td>1</td>\n",
       "      <td>11.72</td>\n",
       "      <td>41</td>\n",
       "      <td>0</td>\n",
       "    </tr>\n",
       "    <tr>\n",
       "      <th>63</th>\n",
       "      <td>Amazon</td>\n",
       "      <td>4</td>\n",
       "      <td>40.13</td>\n",
       "      <td>14</td>\n",
       "      <td>0</td>\n",
       "    </tr>\n",
       "    <tr>\n",
       "      <th>70</th>\n",
       "      <td>Lufthansa</td>\n",
       "      <td>5</td>\n",
       "      <td>248.73</td>\n",
       "      <td>29</td>\n",
       "      <td>0</td>\n",
       "    </tr>\n",
       "    <tr>\n",
       "      <th>72</th>\n",
       "      <td>Edeka</td>\n",
       "      <td>1</td>\n",
       "      <td>33.95</td>\n",
       "      <td>39</td>\n",
       "      <td>0</td>\n",
       "    </tr>\n",
       "    <tr>\n",
       "      <th>78</th>\n",
       "      <td>Edeka</td>\n",
       "      <td>1</td>\n",
       "      <td>47.49</td>\n",
       "      <td>2</td>\n",
       "      <td>0</td>\n",
       "    </tr>\n",
       "    <tr>\n",
       "      <th>100</th>\n",
       "      <td>Edeka</td>\n",
       "      <td>1</td>\n",
       "      <td>2.86</td>\n",
       "      <td>13</td>\n",
       "      <td>0</td>\n",
       "    </tr>\n",
       "    <tr>\n",
       "      <th>106</th>\n",
       "      <td>Edeka</td>\n",
       "      <td>1</td>\n",
       "      <td>40.65</td>\n",
       "      <td>4</td>\n",
       "      <td>0</td>\n",
       "    </tr>\n",
       "    <tr>\n",
       "      <th>125</th>\n",
       "      <td>Edeka</td>\n",
       "      <td>1</td>\n",
       "      <td>57.29</td>\n",
       "      <td>14</td>\n",
       "      <td>0</td>\n",
       "    </tr>\n",
       "    <tr>\n",
       "      <th>132</th>\n",
       "      <td>Amazon</td>\n",
       "      <td>4</td>\n",
       "      <td>28.97</td>\n",
       "      <td>34</td>\n",
       "      <td>0</td>\n",
       "    </tr>\n",
       "    <tr>\n",
       "      <th>143</th>\n",
       "      <td>Lidl</td>\n",
       "      <td>1</td>\n",
       "      <td>36.92</td>\n",
       "      <td>21</td>\n",
       "      <td>0</td>\n",
       "    </tr>\n",
       "    <tr>\n",
       "      <th>145</th>\n",
       "      <td>Edeka</td>\n",
       "      <td>1</td>\n",
       "      <td>33.05</td>\n",
       "      <td>21</td>\n",
       "      <td>0</td>\n",
       "    </tr>\n",
       "    <tr>\n",
       "      <th>150</th>\n",
       "      <td>Lidl</td>\n",
       "      <td>1</td>\n",
       "      <td>7.33</td>\n",
       "      <td>27</td>\n",
       "      <td>0</td>\n",
       "    </tr>\n",
       "    <tr>\n",
       "      <th>191</th>\n",
       "      <td>Rewe</td>\n",
       "      <td>1</td>\n",
       "      <td>27.32</td>\n",
       "      <td>7</td>\n",
       "      <td>0</td>\n",
       "    </tr>\n",
       "    <tr>\n",
       "      <th>192</th>\n",
       "      <td>Lidl</td>\n",
       "      <td>1</td>\n",
       "      <td>50.26</td>\n",
       "      <td>23</td>\n",
       "      <td>0</td>\n",
       "    </tr>\n",
       "    <tr>\n",
       "      <th>193</th>\n",
       "      <td>Edeka</td>\n",
       "      <td>1</td>\n",
       "      <td>8.63</td>\n",
       "      <td>37</td>\n",
       "      <td>0</td>\n",
       "    </tr>\n",
       "    <tr>\n",
       "      <th>204</th>\n",
       "      <td>Edeka</td>\n",
       "      <td>1</td>\n",
       "      <td>33.36</td>\n",
       "      <td>5</td>\n",
       "      <td>0</td>\n",
       "    </tr>\n",
       "    <tr>\n",
       "      <th>212</th>\n",
       "      <td>Aldi</td>\n",
       "      <td>1</td>\n",
       "      <td>14.37</td>\n",
       "      <td>10</td>\n",
       "      <td>0</td>\n",
       "    </tr>\n",
       "    <tr>\n",
       "      <th>228</th>\n",
       "      <td>Lidl</td>\n",
       "      <td>1</td>\n",
       "      <td>27.05</td>\n",
       "      <td>34</td>\n",
       "      <td>0</td>\n",
       "    </tr>\n",
       "    <tr>\n",
       "      <th>240</th>\n",
       "      <td>Amazon</td>\n",
       "      <td>4</td>\n",
       "      <td>19.60</td>\n",
       "      <td>0</td>\n",
       "      <td>0</td>\n",
       "    </tr>\n",
       "    <tr>\n",
       "      <th>257</th>\n",
       "      <td>Lidl</td>\n",
       "      <td>1</td>\n",
       "      <td>40.97</td>\n",
       "      <td>32</td>\n",
       "      <td>0</td>\n",
       "    </tr>\n",
       "    <tr>\n",
       "      <th>283</th>\n",
       "      <td>Rewe</td>\n",
       "      <td>1</td>\n",
       "      <td>24.29</td>\n",
       "      <td>26</td>\n",
       "      <td>0</td>\n",
       "    </tr>\n",
       "    <tr>\n",
       "      <th>290</th>\n",
       "      <td>Lidl</td>\n",
       "      <td>1</td>\n",
       "      <td>53.73</td>\n",
       "      <td>12</td>\n",
       "      <td>0</td>\n",
       "    </tr>\n",
       "    <tr>\n",
       "      <th>291</th>\n",
       "      <td>Edeka</td>\n",
       "      <td>1</td>\n",
       "      <td>37.04</td>\n",
       "      <td>5</td>\n",
       "      <td>0</td>\n",
       "    </tr>\n",
       "    <tr>\n",
       "      <th>295</th>\n",
       "      <td>Edeka</td>\n",
       "      <td>1</td>\n",
       "      <td>25.43</td>\n",
       "      <td>18</td>\n",
       "      <td>0</td>\n",
       "    </tr>\n",
       "    <tr>\n",
       "      <th>302</th>\n",
       "      <td>Booking.com</td>\n",
       "      <td>5</td>\n",
       "      <td>591.55</td>\n",
       "      <td>21</td>\n",
       "      <td>5</td>\n",
       "    </tr>\n",
       "    <tr>\n",
       "      <th>320</th>\n",
       "      <td>Rewe</td>\n",
       "      <td>1</td>\n",
       "      <td>10.04</td>\n",
       "      <td>9</td>\n",
       "      <td>0</td>\n",
       "    </tr>\n",
       "    <tr>\n",
       "      <th>325</th>\n",
       "      <td>Decathlon</td>\n",
       "      <td>4</td>\n",
       "      <td>154.55</td>\n",
       "      <td>22</td>\n",
       "      <td>0</td>\n",
       "    </tr>\n",
       "    <tr>\n",
       "      <th>334</th>\n",
       "      <td>Rewe</td>\n",
       "      <td>1</td>\n",
       "      <td>34.05</td>\n",
       "      <td>29</td>\n",
       "      <td>0</td>\n",
       "    </tr>\n",
       "    <tr>\n",
       "      <th>337</th>\n",
       "      <td>Rewe</td>\n",
       "      <td>1</td>\n",
       "      <td>40.79</td>\n",
       "      <td>15</td>\n",
       "      <td>0</td>\n",
       "    </tr>\n",
       "    <tr>\n",
       "      <th>342</th>\n",
       "      <td>Edeka</td>\n",
       "      <td>1</td>\n",
       "      <td>30.05</td>\n",
       "      <td>4</td>\n",
       "      <td>0</td>\n",
       "    </tr>\n",
       "    <tr>\n",
       "      <th>345</th>\n",
       "      <td>Zalando</td>\n",
       "      <td>2</td>\n",
       "      <td>9.35</td>\n",
       "      <td>16</td>\n",
       "      <td>0</td>\n",
       "    </tr>\n",
       "    <tr>\n",
       "      <th>361</th>\n",
       "      <td>Edeka</td>\n",
       "      <td>1</td>\n",
       "      <td>3.39</td>\n",
       "      <td>23</td>\n",
       "      <td>0</td>\n",
       "    </tr>\n",
       "  </tbody>\n",
       "</table>\n",
       "</div>"
      ],
      "text/plain": [
       "            info  type  amount  week  importance\n",
       "2    Booking.com     5  888.09    23           8\n",
       "4          Edeka     1   32.24     6           0\n",
       "11          Lidl     1    4.85     8           0\n",
       "14          Rewe     1    3.30    33           0\n",
       "34          Rewe     1   23.91    34           0\n",
       "37        Amazon     4   48.78    17           0\n",
       "40          Rewe     1   28.68    39           0\n",
       "41          Lidl     1   38.60    25           0\n",
       "42          Lidl     1    0.77     1           0\n",
       "51        Amazon     4   49.83    36           0\n",
       "60          Rewe     1   27.91    12           0\n",
       "62         Edeka     1   11.72    41           0\n",
       "63        Amazon     4   40.13    14           0\n",
       "70     Lufthansa     5  248.73    29           0\n",
       "72         Edeka     1   33.95    39           0\n",
       "78         Edeka     1   47.49     2           0\n",
       "100        Edeka     1    2.86    13           0\n",
       "106        Edeka     1   40.65     4           0\n",
       "125        Edeka     1   57.29    14           0\n",
       "132       Amazon     4   28.97    34           0\n",
       "143         Lidl     1   36.92    21           0\n",
       "145        Edeka     1   33.05    21           0\n",
       "150         Lidl     1    7.33    27           0\n",
       "191         Rewe     1   27.32     7           0\n",
       "192         Lidl     1   50.26    23           0\n",
       "193        Edeka     1    8.63    37           0\n",
       "204        Edeka     1   33.36     5           0\n",
       "212         Aldi     1   14.37    10           0\n",
       "228         Lidl     1   27.05    34           0\n",
       "240       Amazon     4   19.60     0           0\n",
       "257         Lidl     1   40.97    32           0\n",
       "283         Rewe     1   24.29    26           0\n",
       "290         Lidl     1   53.73    12           0\n",
       "291        Edeka     1   37.04     5           0\n",
       "295        Edeka     1   25.43    18           0\n",
       "302  Booking.com     5  591.55    21           5\n",
       "320         Rewe     1   10.04     9           0\n",
       "325    Decathlon     4  154.55    22           0\n",
       "334         Rewe     1   34.05    29           0\n",
       "337         Rewe     1   40.79    15           0\n",
       "342        Edeka     1   30.05     4           0\n",
       "345      Zalando     2    9.35    16           0\n",
       "361        Edeka     1    3.39    23           0"
      ]
     },
     "execution_count": 93,
     "metadata": {},
     "output_type": "execute_result"
    }
   ],
   "source": [
    "data[~mask]"
   ]
  }
 ],
 "metadata": {
  "kernelspec": {
   "display_name": "Python 3",
   "language": "python",
   "name": "python3"
  },
  "language_info": {
   "codemirror_mode": {
    "name": "ipython",
    "version": 3
   },
   "file_extension": ".py",
   "mimetype": "text/x-python",
   "name": "python",
   "nbconvert_exporter": "python",
   "pygments_lexer": "ipython3",
   "version": "3.6.9"
  }
 },
 "nbformat": 4,
 "nbformat_minor": 4
}
