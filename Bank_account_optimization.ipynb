{
 "cells": [
  {
   "cell_type": "code",
   "execution_count": 1,
   "metadata": {},
   "outputs": [],
   "source": [
    "import sys\n",
    "sys.path.append(\"../\")\n",
    "import pandas as pd\n",
    "import numpy as np\n",
    "from data.transaction_data_generator import generate_transaction_data\n",
    "from preparation.data_preparer import prepare_data\n",
    "from visualization.data_visualizer import visualize_data\n",
    "from model.model_creator import create_model\n",
    "from model.solution_parser import parse_solution\n",
    "from pulp import *\n",
    "from visualization.solution_data_visualizer import visualize_solution_data, plot_solution_preview\n",
    "import ipywidgets as widgets\n",
    "from IPython.display import display, clear_output\n"
   ]
  },
  {
   "cell_type": "code",
   "execution_count": 2,
   "metadata": {},
   "outputs": [
    {
     "data": {
      "text/html": [
       "<script>\n",
       "code_show=true; \n",
       "function code_toggle() {\n",
       " if (code_show){\n",
       " $('div.input').hide();\n",
       " } else {\n",
       " $('div.input').show();\n",
       " }\n",
       " code_show = !code_show\n",
       "} \n",
       "$( document ).ready(code_toggle);\n",
       "</script>\n",
       "<form action=\"javascript:code_toggle()\"><input type=\"submit\" value=\"Click here to toggle on/off the raw code.\"></form>"
      ],
      "text/plain": [
       "<IPython.core.display.HTML object>"
      ]
     },
     "execution_count": 2,
     "metadata": {},
     "output_type": "execute_result"
    }
   ],
   "source": [
    "from IPython.display import HTML\n",
    "\n",
    "HTML('''<script>\n",
    "code_show=true; \n",
    "function code_toggle() {\n",
    " if (code_show){\n",
    " $('div.input').hide();\n",
    " } else {\n",
    " $('div.input').show();\n",
    " }\n",
    " code_show = !code_show\n",
    "} \n",
    "$( document ).ready(code_toggle);\n",
    "</script>\n",
    "<form action=\"javascript:code_toggle()\"><input type=\"submit\" value=\"Click here to toggle on/off the raw code.\"></form>''')"
   ]
  },
  {
   "cell_type": "code",
   "execution_count": 3,
   "metadata": {},
   "outputs": [
    {
     "data": {
      "text/html": [
       "\n",
       "    <style>\n",
       "        .output_scroll {\n",
       "            height: unset !important;\n",
       "            border-radius: unset !important;\n",
       "            -webkit-box-shadow: unset !important;\n",
       "            box-shadow: unset !important;\n",
       "        }\n",
       "    </style>\n",
       "    "
      ],
      "text/plain": [
       "<IPython.core.display.HTML object>"
      ]
     },
     "metadata": {},
     "output_type": "display_data"
    }
   ],
   "source": [
    "style = \"\"\"\n",
    "    <style>\n",
    "        .output_scroll {\n",
    "            height: unset !important;\n",
    "            border-radius: unset !important;\n",
    "            -webkit-box-shadow: unset !important;\n",
    "            box-shadow: unset !important;\n",
    "        }\n",
    "    </style>\n",
    "    \"\"\"\n",
    "display(HTML(style))"
   ]
  },
  {
   "cell_type": "code",
   "execution_count": 4,
   "metadata": {},
   "outputs": [],
   "source": [
    "importance_factors = {\"grocery\":1, \"fashion\":2, \"shopping\":3, \"travel\":10, \"rent\": 1000, \"unknown\":10, \"income\":0}\n",
    "transactions = generate_transaction_data()\n",
    "prepare_data(transactions)\n",
    "year = 2019\n",
    "selected_year = transactions[transactions['year']==year].copy()\n",
    "selected_year[\"importance\"] = selected_year['type'].map(importance_factors)"
   ]
  },
  {
   "cell_type": "code",
   "execution_count": 5,
   "metadata": {
    "scrolled": false
   },
   "outputs": [
    {
     "data": {
      "application/vnd.jupyter.widget-view+json": {
       "model_id": "ed7c0df24bb74cbdaf6531b9a1ec06bb",
       "version_major": 2,
       "version_minor": 0
      },
      "text/plain": [
       "HTML(value='<b>Budget Optimization</b>: Select inputs')"
      ]
     },
     "metadata": {},
     "output_type": "display_data"
    },
    {
     "data": {
      "application/vnd.jupyter.widget-view+json": {
       "model_id": "8bd4a1f94f2d4343a257c79511bec5bd",
       "version_major": 2,
       "version_minor": 0
      },
      "text/plain": [
       "FloatSlider(value=0.3, description='Savings:', max=0.8, step=0.05)"
      ]
     },
     "metadata": {},
     "output_type": "display_data"
    },
    {
     "data": {
      "application/vnd.jupyter.widget-view+json": {
       "model_id": "21b49ca7201f44eda2822b5519a19687",
       "version_major": 2,
       "version_minor": 0
      },
      "text/plain": [
       "FloatSlider(value=180.0, description='Grocery:', max=500.0, step=5.0)"
      ]
     },
     "metadata": {},
     "output_type": "display_data"
    },
    {
     "data": {
      "application/vnd.jupyter.widget-view+json": {
       "model_id": "a57a025214984695a8b7d0da385294f8",
       "version_major": 2,
       "version_minor": 0
      },
      "text/plain": [
       "Button(description='Optimize', style=ButtonStyle())"
      ]
     },
     "metadata": {},
     "output_type": "display_data"
    },
    {
     "data": {
      "application/vnd.jupyter.widget-view+json": {
       "model_id": "a2df378ddcb2427c8dca98fb185ba22f",
       "version_major": 2,
       "version_minor": 0
      },
      "text/plain": [
       "Valid(value=False, description='Infeasible')"
      ]
     },
     "metadata": {},
     "output_type": "display_data"
    },
    {
     "name": "stdout",
     "output_type": "stream",
     "text": [
      "Optimization was unsuccessful. Consider adjusting inputs\n"
     ]
    }
   ],
   "source": [
    "text = widgets.HTML(\n",
    "    value=\"<b>Budget Optimization</b>: Select inputs\",\n",
    ")\n",
    "\n",
    "savings_slider = widgets.FloatSlider( min=0,\n",
    "    max=0.8,\n",
    "    step=0.05,\n",
    "    description='Savings:',\n",
    "    value=0.3)\n",
    "grocery_slider = widgets.FloatSlider( min=0,\n",
    "    max=500.0,\n",
    "    step=5.00,\n",
    "    description='Grocery:',\n",
    "    value=50.0)\n",
    "display(text, savings_slider,grocery_slider)\n",
    "\n",
    "\n",
    "btn = widgets.Button(description='Optimize')\n",
    "display(btn)\n",
    "\n",
    "\n",
    "btn_analysis = widgets.Button(description='More details')\n",
    "btn_close_analysis = widgets.Button(description='Close details')\n",
    "\n",
    "\n",
    "def btn_optimize_eventhandler(obj):\n",
    "\n",
    "    clear_output()\n",
    "    display(text, savings_slider,grocery_slider,btn)\n",
    "\n",
    "    savings = savings_slider.value\n",
    "    grocery_per_week = grocery_slider.value\n",
    "    model, variables = create_model(selected_year, savings, grocery_per_week)\n",
    "    status = model.solve()\n",
    "\n",
    "    if LpStatus[status] == 'Optimal':\n",
    "        print(\"Optimization was successful\")\n",
    "    else:\n",
    "        valid = widgets.Valid(\n",
    "            value=False,\n",
    "            description='Infeasible'        )\n",
    "        display(valid)\n",
    "        print(\"Optimization was unsuccessful. Consider adjusting inputs\")\n",
    "        return\n",
    "    solution, objective = parse_solution(selected_year,variables,model)\n",
    "    solved_data = selected_year.join(solution)\n",
    "    remained_transactions_sum = sum(solved_data['solution']*solved_data['Debit'])\n",
    "    print(f\"Total expenses of proposed retroactive plan: {remained_transactions_sum} EUR\")\n",
    "    #visualize_solution_data(solved_data, grocery_per_week)\n",
    "    plot_solution_preview(solved_data)\n",
    "    out = widgets.Output()\n",
    "    display(out)\n",
    "    with out:\n",
    "        display(btn_analysis)\n",
    "    obj.value = solved_data, out\n",
    "\n",
    "    \n",
    "    \n",
    "def btn_analysis_eventhandler(obj):\n",
    "    grocery_per_week = grocery_slider.value\n",
    "    with btn.value[1]:\n",
    "        clear_output()\n",
    "        display(btn_close_analysis)\n",
    "        visualize_solution_data(btn.value[0], grocery_per_week)\n",
    "        \n",
    "def btn_close_eventhandler(obj):\n",
    "    with btn.value[1]:\n",
    "        clear_output()\n",
    "        display(btn_analysis)\n",
    "\n",
    "btn.on_click(btn_optimize_eventhandler)\n",
    "btn_analysis.on_click(btn_analysis_eventhandler)\n",
    "btn_close_analysis.on_click(btn_close_eventhandler)\n"
   ]
  }
 ],
 "metadata": {
  "kernelspec": {
   "display_name": "Python 3",
   "language": "python",
   "name": "python3"
  },
  "language_info": {
   "codemirror_mode": {
    "name": "ipython",
    "version": 3
   },
   "file_extension": ".py",
   "mimetype": "text/x-python",
   "name": "python",
   "nbconvert_exporter": "python",
   "pygments_lexer": "ipython3",
   "version": "3.6.9"
  }
 },
 "nbformat": 4,
 "nbformat_minor": 4
}
